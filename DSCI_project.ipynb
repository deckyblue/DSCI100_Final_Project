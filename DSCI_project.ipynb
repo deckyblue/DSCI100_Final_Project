{
 "cells": [
  {
   "cell_type": "code",
   "execution_count": 2,
   "metadata": {},
   "outputs": [],
   "source": [
    "#run this cell to install the following libraries!\n",
    "\n",
    "#install.packages(\"tidymodels\")  #install if necessary\n",
    "#install.packages(\"tidyverse\")   #install if necessary\n",
    "#install.packages(\"repr\")        #install if necessary\n",
    "library(tidyverse)\n",
    "library(repr)\n",
    "library(tidymodels)"
   ]
  },
  {
   "cell_type": "markdown",
   "metadata": {},
   "source": [
    "**Title: Predicting the Probability of Wildfire in Algerian Forests**\n",
    "\n",
    "**Introduction:** \n",
    "\n",
    "While the North-African nation of Algeria is perhaps best known for occupying a significant part of the Sahara Desert, the country is also host to a large section of the Atlas Mountains. The elevations offered by the range provide a refuge from the aridity of the desert below for many species of vegetation and fauna, and consequently these areas contain the country's most productive ecosystems (Kharytonov et al., 2018). This ecological zone also provide the ideal environment for a host of human economic activity - directly through forestry, which makes up 5% of Algeria's gross domestic product, and indirectly as productive agricultural land (Berdikeeva, 2019). As a vegetated zone in a warm alpine environment, wildfires have been always been a part of the ecosystems of Northern Algeria, providing a way for ageing forests to regenerate. However, the rate at which wildfires are occuring in the region has accelerated as global temperatures continue to increase, causing much damage both to the natural ecosystems, and to the livelihoods of the people who inhabit the region (Law, 2019). Subsequently, the Algerian authorities have put significant resources into the process of mitigating the destruction that these fires cause, but there is still a lot of work that needs doing (Meddour-Sahar et al., 2013). \n",
    "\n",
    "Therefore, this project seeks to provide assistance to the General Directorate of Forestry (Algeria's national department of forestry), through the creation of a machine learning classification model that can predict if a particular forest stand is likely to be the immediate scene of a fire, through several predictive factors, which will be examined below. More specifically, this project will attempt to predict wildfires in two regions of Algeria: the northeastern region of Bejaja and the northwestern region of Sidi Bel-abbes. The two regions from the dataset will be analyzed together such that data from both regions will be used to train the model. The predictor variables include **insert predictors when picked**. This will then be used to predict our target variable, which will be the fire status of the forest stand. There will be two possible classes: fire or not a fire.\n",
    "\n",
    "This model will answer the question: \n",
    "\n",
    "\"Can **insert predicitve variables** be used to predict whether a future wildfire will or will not occure in the Northern forests of Algeria?\"\n",
    "\n",
    "The classification model will be trained using the Algerian Forest Fires Dataset from the UCI Machine Learning Repository. The dataset contains 244 recorded fires that occured in the two regions (Bejaja and Sidi Bel-abbes) between June and September in 2012. For each observed fire, 11 attributes of the forest stand in question were recorded. These attributes were:\n",
    "\n",
    "- Temperature (Celsius)\n",
    "- Relative Humidity (%)\n",
    "- Wind Speed (km/h)\n",
    "- Rain (mm)\n",
    "- Fine Fuel Moisture Code \n",
    "- Duff Moisture Code\n",
    "- Drought Code \n",
    "- Initial Spread Index\n",
    "- Build Up Index\n",
    "- Fire Weather Index\n",
    "- If a fire was observed at the forest stand (fire/not fire)\n",
    "\n",
    "The final column will be used as the target variable for this model. \n",
    "\n",
    "**Preliminary exploratory data analysis:** "
   ]
  },
  {
   "cell_type": "markdown",
   "metadata": {},
   "source": [
    "The first step to creating the model is reading in the Algerian Forest Fires Dataset from the UCI Machine Learning Repository. This is done below using the \"read_csv\" function from the tidyverse package. The predictor variables were then mutated, so that they were in numeric format, while the target variable was mutated into a factor. The data is shown in \"tidy\" format in Table 1 below. A seed has also been set to ensure our results are reproducible. "
   ]
  },
  {
   "cell_type": "code",
   "execution_count": 15,
   "metadata": {},
   "outputs": [],
   "source": [
    "###set.seed(1)"
   ]
  },
  {
   "cell_type": "code",
   "execution_count": 16,
   "metadata": {},
   "outputs": [
    {
     "name": "stderr",
     "output_type": "stream",
     "text": [
      "Parsed with column specification:\n",
      "cols(\n",
      "  day = \u001b[31mcol_character()\u001b[39m,\n",
      "  month = \u001b[31mcol_character()\u001b[39m,\n",
      "  year = \u001b[31mcol_character()\u001b[39m,\n",
      "  Temperature = \u001b[31mcol_character()\u001b[39m,\n",
      "  RH = \u001b[31mcol_character()\u001b[39m,\n",
      "  Ws = \u001b[31mcol_character()\u001b[39m,\n",
      "  Rain = \u001b[31mcol_character()\u001b[39m,\n",
      "  FFMC = \u001b[31mcol_character()\u001b[39m,\n",
      "  DMC = \u001b[31mcol_character()\u001b[39m,\n",
      "  DC = \u001b[31mcol_character()\u001b[39m,\n",
      "  ISI = \u001b[31mcol_character()\u001b[39m,\n",
      "  BUI = \u001b[31mcol_character()\u001b[39m,\n",
      "  FWI = \u001b[31mcol_character()\u001b[39m,\n",
      "  Classes = \u001b[31mcol_character()\u001b[39m\n",
      ")\n",
      "\n",
      "Warning message:\n",
      "“2 parsing failures.\n",
      "row col   expected     actual         file\n",
      "123  -- 14 columns 1 columns  <connection>\n",
      "168  -- 14 columns 13 columns <connection>\n",
      "”\n"
     ]
    }
   ],
   "source": [
    "forest_fire_original <- read_csv(url(\"https://archive.ics.uci.edu/ml/machine-learning-databases/00547/Algerian_forest_fires_dataset_UPDATE.csv\"), skip = 1)\n",
    "#head(forest_fire_original)"
   ]
  },
  {
   "cell_type": "code",
   "execution_count": 17,
   "metadata": {},
   "outputs": [
    {
     "data": {
      "text/html": [
       "<table>\n",
       "<caption>A tibble: 6 × 11</caption>\n",
       "<thead>\n",
       "\t<tr><th scope=col>Temperature</th><th scope=col>RH</th><th scope=col>Ws</th><th scope=col>Rain</th><th scope=col>FFMC</th><th scope=col>DMC</th><th scope=col>DC</th><th scope=col>ISI</th><th scope=col>BUI</th><th scope=col>FWI</th><th scope=col>Classes</th></tr>\n",
       "\t<tr><th scope=col>&lt;dbl&gt;</th><th scope=col>&lt;dbl&gt;</th><th scope=col>&lt;dbl&gt;</th><th scope=col>&lt;dbl&gt;</th><th scope=col>&lt;dbl&gt;</th><th scope=col>&lt;dbl&gt;</th><th scope=col>&lt;dbl&gt;</th><th scope=col>&lt;dbl&gt;</th><th scope=col>&lt;dbl&gt;</th><th scope=col>&lt;dbl&gt;</th><th scope=col>&lt;fct&gt;</th></tr>\n",
       "</thead>\n",
       "<tbody>\n",
       "\t<tr><td>29</td><td>57</td><td>18</td><td> 0.0</td><td>65.7</td><td>3.4</td><td> 7.6</td><td>1.3</td><td>3.4</td><td>0.5</td><td>not fire</td></tr>\n",
       "\t<tr><td>29</td><td>61</td><td>13</td><td> 1.3</td><td>64.4</td><td>4.1</td><td> 7.6</td><td>1.0</td><td>3.9</td><td>0.4</td><td>not fire</td></tr>\n",
       "\t<tr><td>26</td><td>82</td><td>22</td><td>13.1</td><td>47.1</td><td>2.5</td><td> 7.1</td><td>0.3</td><td>2.7</td><td>0.1</td><td>not fire</td></tr>\n",
       "\t<tr><td>25</td><td>89</td><td>13</td><td> 2.5</td><td>28.6</td><td>1.3</td><td> 6.9</td><td>0.0</td><td>1.7</td><td>0.0</td><td>not fire</td></tr>\n",
       "\t<tr><td>27</td><td>77</td><td>16</td><td> 0.0</td><td>64.8</td><td>3.0</td><td>14.2</td><td>1.2</td><td>3.9</td><td>0.5</td><td>not fire</td></tr>\n",
       "\t<tr><td>31</td><td>67</td><td>14</td><td> 0.0</td><td>82.6</td><td>5.8</td><td>22.2</td><td>3.1</td><td>7.0</td><td>2.5</td><td>fire    </td></tr>\n",
       "</tbody>\n",
       "</table>\n"
      ],
      "text/latex": [
       "A tibble: 6 × 11\n",
       "\\begin{tabular}{lllllllllll}\n",
       " Temperature & RH & Ws & Rain & FFMC & DMC & DC & ISI & BUI & FWI & Classes\\\\\n",
       " <dbl> & <dbl> & <dbl> & <dbl> & <dbl> & <dbl> & <dbl> & <dbl> & <dbl> & <dbl> & <fct>\\\\\n",
       "\\hline\n",
       "\t 29 & 57 & 18 &  0.0 & 65.7 & 3.4 &  7.6 & 1.3 & 3.4 & 0.5 & not fire\\\\\n",
       "\t 29 & 61 & 13 &  1.3 & 64.4 & 4.1 &  7.6 & 1.0 & 3.9 & 0.4 & not fire\\\\\n",
       "\t 26 & 82 & 22 & 13.1 & 47.1 & 2.5 &  7.1 & 0.3 & 2.7 & 0.1 & not fire\\\\\n",
       "\t 25 & 89 & 13 &  2.5 & 28.6 & 1.3 &  6.9 & 0.0 & 1.7 & 0.0 & not fire\\\\\n",
       "\t 27 & 77 & 16 &  0.0 & 64.8 & 3.0 & 14.2 & 1.2 & 3.9 & 0.5 & not fire\\\\\n",
       "\t 31 & 67 & 14 &  0.0 & 82.6 & 5.8 & 22.2 & 3.1 & 7.0 & 2.5 & fire    \\\\\n",
       "\\end{tabular}\n"
      ],
      "text/markdown": [
       "\n",
       "A tibble: 6 × 11\n",
       "\n",
       "| Temperature &lt;dbl&gt; | RH &lt;dbl&gt; | Ws &lt;dbl&gt; | Rain &lt;dbl&gt; | FFMC &lt;dbl&gt; | DMC &lt;dbl&gt; | DC &lt;dbl&gt; | ISI &lt;dbl&gt; | BUI &lt;dbl&gt; | FWI &lt;dbl&gt; | Classes &lt;fct&gt; |\n",
       "|---|---|---|---|---|---|---|---|---|---|---|\n",
       "| 29 | 57 | 18 |  0.0 | 65.7 | 3.4 |  7.6 | 1.3 | 3.4 | 0.5 | not fire |\n",
       "| 29 | 61 | 13 |  1.3 | 64.4 | 4.1 |  7.6 | 1.0 | 3.9 | 0.4 | not fire |\n",
       "| 26 | 82 | 22 | 13.1 | 47.1 | 2.5 |  7.1 | 0.3 | 2.7 | 0.1 | not fire |\n",
       "| 25 | 89 | 13 |  2.5 | 28.6 | 1.3 |  6.9 | 0.0 | 1.7 | 0.0 | not fire |\n",
       "| 27 | 77 | 16 |  0.0 | 64.8 | 3.0 | 14.2 | 1.2 | 3.9 | 0.5 | not fire |\n",
       "| 31 | 67 | 14 |  0.0 | 82.6 | 5.8 | 22.2 | 3.1 | 7.0 | 2.5 | fire     |\n",
       "\n"
      ],
      "text/plain": [
       "  Temperature RH Ws Rain FFMC DMC DC   ISI BUI FWI Classes \n",
       "1 29          57 18  0.0 65.7 3.4  7.6 1.3 3.4 0.5 not fire\n",
       "2 29          61 13  1.3 64.4 4.1  7.6 1.0 3.9 0.4 not fire\n",
       "3 26          82 22 13.1 47.1 2.5  7.1 0.3 2.7 0.1 not fire\n",
       "4 25          89 13  2.5 28.6 1.3  6.9 0.0 1.7 0.0 not fire\n",
       "5 27          77 16  0.0 64.8 3.0 14.2 1.2 3.9 0.5 not fire\n",
       "6 31          67 14  0.0 82.6 5.8 22.2 3.1 7.0 2.5 fire    "
      ]
     },
     "metadata": {},
     "output_type": "display_data"
    }
   ],
   "source": [
    "forest_fire <- forest_fire_original %>%\n",
    "  select(-day, -month, -year) %>%\n",
    "  slice(1:122, 125:167, 169:244) %>%\n",
    "  mutate(Temperature = as.numeric(Temperature)) %>%\n",
    "  mutate(RH = as.numeric(RH)) %>%\n",
    "  mutate(Ws = as.numeric(Ws)) %>%\n",
    "  mutate(Rain = as.numeric(Rain)) %>%\n",
    "  mutate(FFMC = as.numeric(FFMC)) %>%\n",
    "  mutate(DMC = as.numeric(DMC)) %>%\n",
    "  mutate(DC = as.numeric(DC)) %>%\n",
    "  mutate(ISI = as.numeric(ISI)) %>%\n",
    "  mutate(BUI = as.numeric(BUI)) %>%\n",
    "  mutate(FWI = as.numeric(FWI)) %>%\n",
    "  mutate(Classes = as.factor(Classes))\n",
    "\n",
    "head(forest_fire)"
   ]
  },
  {
   "cell_type": "markdown",
   "metadata": {},
   "source": [
    "<i> Table 1: The Algerian Forest Fires Dataset once it has been read into R. The data is already in a \"tidy\" format and therefore it does not need a significant amount of wrangling. All predictive variables have been transformed to numeric variables as they were previously characters. The only exception to this is the target variable - \"classes\" - which has been transformed to a factor."
   ]
  },
  {
   "cell_type": "code",
   "execution_count": 26,
   "metadata": {},
   "outputs": [
    {
     "name": "stderr",
     "output_type": "stream",
     "text": [
      "`summarise()` ungrouping output (override with `.groups` argument)\n",
      "\n"
     ]
    },
    {
     "data": {
      "text/html": [
       "<table>\n",
       "<caption>A tibble: 2 × 3</caption>\n",
       "<thead>\n",
       "\t<tr><th scope=col>Classes</th><th scope=col>NumberObservations</th><th scope=col>Percentage</th></tr>\n",
       "\t<tr><th scope=col>&lt;fct&gt;</th><th scope=col>&lt;int&gt;</th><th scope=col>&lt;dbl&gt;</th></tr>\n",
       "</thead>\n",
       "<tbody>\n",
       "\t<tr><td>fire    </td><td>137</td><td>56.84647</td></tr>\n",
       "\t<tr><td>not fire</td><td>104</td><td>43.15353</td></tr>\n",
       "</tbody>\n",
       "</table>\n"
      ],
      "text/latex": [
       "A tibble: 2 × 3\n",
       "\\begin{tabular}{lll}\n",
       " Classes & NumberObservations & Percentage\\\\\n",
       " <fct> & <int> & <dbl>\\\\\n",
       "\\hline\n",
       "\t fire     & 137 & 56.84647\\\\\n",
       "\t not fire & 104 & 43.15353\\\\\n",
       "\\end{tabular}\n"
      ],
      "text/markdown": [
       "\n",
       "A tibble: 2 × 3\n",
       "\n",
       "| Classes &lt;fct&gt; | NumberObservations &lt;int&gt; | Percentage &lt;dbl&gt; |\n",
       "|---|---|---|\n",
       "| fire     | 137 | 56.84647 |\n",
       "| not fire | 104 | 43.15353 |\n",
       "\n"
      ],
      "text/plain": [
       "  Classes  NumberObservations Percentage\n",
       "1 fire     137                56.84647  \n",
       "2 not fire 104                43.15353  "
      ]
     },
     "metadata": {},
     "output_type": "display_data"
    }
   ],
   "source": [
    "number_each_class <- nrow(forest_fire)\n",
    "forest_fire %>%\n",
    "  group_by(Classes) %>%\n",
    "  summarize(\n",
    "    NumberObservations = n(),\n",
    "    Percentage = n() / number_each_class * 100)"
   ]
  },
  {
   "cell_type": "markdown",
   "metadata": {},
   "source": [
    "<i>Table 2: Table showing the number of observations in each target class. There are fairly similar proportions in each class with 57% of the observations recording fires and 43% of the observations recording stands in which fires did not occur.</i>"
   ]
  },
  {
   "cell_type": "code",
   "execution_count": 7,
   "metadata": {},
   "outputs": [],
   "source": [
    "forest_fire_split <- initial_split(forest_fire, prop = 0.75, strata = Classes)  \n",
    "forest_fire_train <- training(forest_fire_split)   \n",
    "forest_fire_test <- testing(forest_fire_split)"
   ]
  },
  {
   "cell_type": "code",
   "execution_count": null,
   "metadata": {},
   "outputs": [],
   "source": [
    "#The outputted dataframes of the following cell show the averages of temperature and rain for all the observations, \n",
    "#as well as the number of fire/non-fire days there were for the 244 days observed. \n",
    "\n",
    "forest_fire_means <- forest_fire_train %>%\n",
    "    select(Temperature, Rain) %>%\n",
    "    map_df(mean, na.rm = TRUE)\n",
    "\n",
    "forest_fire_means\n",
    "\n",
    "forest_fire_classes <- forest_fire_train %>%\n",
    "    group_by(Classes) %>%\n",
    "    summarize(count = n())\n",
    "\n",
    "forest_fire_classes"
   ]
  },
  {
   "cell_type": "code",
   "execution_count": null,
   "metadata": {},
   "outputs": [],
   "source": [
    "#scale the variables\n",
    "forest_fire_train_scaled <- forest_fire_train %>% \n",
    " mutate(scaled_Temp = scale(Temperature, center = TRUE), \n",
    "        scaled_RH = scale(RH, center = TRUE),\n",
    "        scaled_Ws = scale(Ws, center = TRUE),\n",
    "        scaled_Rain = scale(Rain, TRUE),\n",
    "        scaled_FFMC = scale(FFMC, TRUE),\n",
    "        scaled_DMC = scale(DMC, TRUE),\n",
    "        scaled_DC = scale(DC, TRUE),\n",
    "        scaled_ISI = scale(ISI, TRUE),\n",
    "        scaled_BUI = scale(BUI, TRUE),\n",
    "        scaled_FWI = scale(FWI, TRUE),\n",
    "        Fire_Status = Classes) %>%\n",
    "select(scaled_Temp:Fire_Status)\n",
    "\n",
    "# head(forest_fire_train_scaled) #we changed it to forest_fire_train because we are only supposed to scale the training data. "
   ]
  },
  {
   "cell_type": "code",
   "execution_count": null,
   "metadata": {},
   "outputs": [],
   "source": [
    "# #split dataset into a training and testing set\n",
    "# wildfire_split <- initial_split(wildfire_scaled, prop = 0.75, strata = Fire_Status)  \n",
    "# wildfire_train <- training(wildfire_split)   \n",
    "# wildfire_test <- testing(wildfire_split)\n",
    "\n",
    "#head(wildfire_train)\n",
    "#head(wildfire_test)"
   ]
  },
  {
   "cell_type": "code",
   "execution_count": null,
   "metadata": {},
   "outputs": [],
   "source": [
    "#read in data from web\n",
    "#clean and wrangle data\n",
    "ggpairs(forest_fire)"
   ]
  },
  {
   "cell_type": "code",
   "execution_count": null,
   "metadata": {},
   "outputs": [],
   "source": [
    "# wildfire_means <- wildfire_train %>%\n",
    "#     map_df(mean)\n",
    "\n",
    "# wildfire_means"
   ]
  },
  {
   "cell_type": "code",
   "execution_count": null,
   "metadata": {},
   "outputs": [],
   "source": [
    "options(repr.plot.width = 12, repr.plot.height = 9)\n",
    "\n",
    "FFMC_ISI_Plot <- ggplot(forest_fire_train_scaled, aes(x = scaled_Rain, y = scaled_Temp, colour = Fire_Status)) + #training set, not whole dataset\n",
    "  geom_point() +\n",
    "  labs(x = \"Standardized Rain (mm)\", y = \" Standardized Temperature\", colour = \"Fire Status\") +\n",
    "  ggtitle(\"Standardized temperature at noon (C) vs Standardized rain per day (mm)\") +\n",
    "  theme(plot.title = element_text(hjust = 0.5)) +\n",
    "  theme(text = element_text(size = 15)) +\n",
    "  scale_color_discrete(labels = c(\"Fire\", \"No Fire\", \"Unknown\")) #no unknowns though\n",
    "  \n",
    "FFMC_ISI_Plot\n",
    "#summarize training data\n",
    "#training data plot"
   ]
  },
  {
   "cell_type": "markdown",
   "metadata": {},
   "source": [
    "**Methods:** \n",
    "\n",
    "The data analysis will be conducted using the scaled_Temp and scaled_Rain (temperature and rain scaled). Since the dataset is a small dataset, the training and testing sets are split 75-25. Then, the recipe will be created using the training set. The number of neighbours used will be found from tuning the initial training set by splitting it in different ways into multiple validation and training sets then cross validating for accuracy.\n",
    "\n",
    "Our results will be visualized by using the geom_point() function to display the observations in the validation set with respect to temperature at noon and amount of rain per day, coloured by the classification of fire or not fire."
   ]
  },
  {
   "cell_type": "markdown",
   "metadata": {},
   "source": [
    "**Expected Outcomes and Project Significance:**\n",
    "\n",
    "Intuition suggests that higher noon temperatures and lower daily rain  (leading to dryer conditions) would lead to a higher probability of wildfire occurrence.\n",
    "\n",
    "Establishing a reliable classification model ensures that, by  measuring these predictive variables, more informed decisions can be made on any given day to better deal with or contain potential wildfires when and where they are more likely to occur. Adequate resources may be allocated in advance using weather forecasts, and warnings of potential fires can be announced through media like weather channels in a timely fashion.\n",
    "\n",
    "Investigating  the intersection of wildfire predictability and climate conditions could lead to intriguing territory with regards to the discussion of climate change; that is, if the occurrence of wildfires can be accurately predicted using the chosen variables, which are natural phenomena, and climate change has a significant effect on said phenomena, an intuitive follow-up question could be asked, “Does anthropogenic climate change increase wildfire frequency?”"
   ]
  },
  {
   "cell_type": "markdown",
   "metadata": {},
   "source": [
    "**References:**\n",
    "\n",
    "Berdikeeva, S. (2019). Burning Forests Threaten At-Risk Populations in Morocco and Algeria. Inside Arabia. Retrieved 7 April 2021, from https://insidearabia.com/burning-forests-threaten-at-risk-populations-in-morocco-and-algeria/.\n",
    "\n",
    "Kharytonov, M., Islem, B., & Maatoug, M. (2018). Vegetation dynamics of Algerian’s steppe ecosystem. Case of the region of Tiaret. Environmental Research, Engineering And Management, 74(1). https://doi.org/10.5755/j01.erem.74.1.20095\n",
    "\n",
    "Law, J. (2019). Algerian forest reinstated as National Park after turbulent history. BirdLife. Retrieved 7 April 2021, from https://www.birdlife.org/worldwide/news/algerian-forest-reinstated-national-park-after-turbulent-history.\n",
    "\n",
    "Meddour-Sahar, Ouahiba; González-Cabán, Armando; Meddour, Rachid; Derridj, Arezki. (2013). Wildfire management policies in Algeria: present and future needs. In: González-Cabán, Armando, tech. coord. Proceedings of the fourth international symposium on fire economics, planning, and policy: climate change and wildfires. Gen. Tech. Rep. PSW-GTR-245 (English). Albany, CA: U.S. Department of Agriculture, Forest Service, Pacific Southwest Research Station: 382-395."
   ]
  },
  {
   "cell_type": "code",
   "execution_count": null,
   "metadata": {},
   "outputs": [],
   "source": []
  }
 ],
 "metadata": {
  "kernelspec": {
   "display_name": "R",
   "language": "R",
   "name": "ir"
  },
  "language_info": {
   "codemirror_mode": "r",
   "file_extension": ".r",
   "mimetype": "text/x-r-source",
   "name": "R",
   "pygments_lexer": "r",
   "version": "4.0.0"
  }
 },
 "nbformat": 4,
 "nbformat_minor": 4
}
